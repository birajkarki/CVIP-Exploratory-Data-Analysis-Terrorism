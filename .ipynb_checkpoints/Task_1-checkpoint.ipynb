{
 "cells": [
  {
   "cell_type": "markdown",
   "metadata": {
    "execution": {
     "iopub.execute_input": "2023-09-10T07:45:59.076316Z",
     "iopub.status.busy": "2023-09-10T07:45:59.075845Z",
     "iopub.status.idle": "2023-09-10T07:45:59.082137Z",
     "shell.execute_reply": "2023-09-10T07:45:59.080579Z",
     "shell.execute_reply.started": "2023-09-10T07:45:59.076285Z"
    }
   },
   "source": [
    "# <p style=\"padding:8px;background-color:#h3ca70 ;margin:0;color:#000000;font-family:newtimeroman;font-size:100%;text-align:center;border-radius: 10px 40px;overflow:hidden;font-weight:500\"> Exploratory Data Analysis - Terrorism </p>"
   ]
  },
  {
   "cell_type": "markdown",
   "metadata": {},
   "source": [
    "# Problem Statement:\n",
    "\n",
    "The goal of this project is to perform Exploratory Data Analysis (EDA) on the terrorism dataset to extract meaningful insights and patterns. By analyzing the dataset, we aim to uncover trends, identify high-risk regions, understand attack characteristics, and potentially reveal factors that contribute to terrorist activities."
   ]
  },
  {
   "cell_type": "markdown",
   "metadata": {},
   "source": [
    "# About Dataset\n",
    "\n",
    "The Global Terrorism Database (GTD) is an open-source repository that contains comprehensive data on over 180,000 terrorist attacks worldwide spanning from 1970 to 2017. This database encompasses both domestic and international terrorist incidents and is managed by researchers associated with the National Consortium for the Study of Terrorism and Responses to Terrorism (START), which is based at the University of Maryland."
   ]
  },
  {
   "cell_type": "markdown",
   "metadata": {},
   "source": [
    "# **Import Libraries**"
   ]
  },
  {
   "cell_type": "code",
   "execution_count": 1,
   "metadata": {
    "execution": {
     "iopub.execute_input": "2023-12-13T17:04:14.135599Z",
     "iopub.status.busy": "2023-12-13T17:04:14.134384Z",
     "iopub.status.idle": "2023-12-13T17:04:14.143213Z",
     "shell.execute_reply": "2023-12-13T17:04:14.141643Z",
     "shell.execute_reply.started": "2023-12-13T17:04:14.135545Z"
    }
   },
   "outputs": [],
   "source": [
    "import math\n",
    "import numpy as np \n",
    "import pandas as pd \n",
    "import seaborn as sns\n",
    "import plotly.offline as py\n",
    "import plotly.graph_objs as go\n",
    "import matplotlib.pyplot as plt\n",
    "\n",
    "import warnings\n",
    "warnings.filterwarnings('ignore')\n"
   ]
  },
  {
   "cell_type": "markdown",
   "metadata": {},
   "source": []
  },
  {
   "cell_type": "markdown",
   "metadata": {},
   "source": []
  },
  {
   "cell_type": "code",
   "execution_count": null,
   "metadata": {},
   "outputs": [],
   "source": []
  },
  {
   "cell_type": "markdown",
   "metadata": {},
   "source": [
    "# **Load and Explore the dataset**"
   ]
  },
  {
   "cell_type": "code",
   "execution_count": 2,
   "metadata": {
    "execution": {
     "iopub.execute_input": "2023-12-13T17:04:14.146466Z",
     "iopub.status.busy": "2023-12-13T17:04:14.146020Z",
     "iopub.status.idle": "2023-12-13T17:04:22.101297Z",
     "shell.execute_reply": "2023-12-13T17:04:22.099814Z",
     "shell.execute_reply.started": "2023-12-13T17:04:14.146390Z"
    }
   },
   "outputs": [
    {
     "ename": "FileNotFoundError",
     "evalue": "[Errno 2] No such file or directory: '/Data/globalterrorismdb_0718dist.csv'",
     "output_type": "error",
     "traceback": [
      "\u001b[0;31m---------------------------------------------------------------------------\u001b[0m",
      "\u001b[0;31mFileNotFoundError\u001b[0m                         Traceback (most recent call last)",
      "Cell \u001b[0;32mIn[2], line 2\u001b[0m\n\u001b[1;32m      1\u001b[0m \u001b[38;5;66;03m# Load the dataset\u001b[39;00m\n\u001b[0;32m----> 2\u001b[0m df\u001b[38;5;241m=\u001b[39mpd\u001b[38;5;241m.\u001b[39mread_csv(\u001b[38;5;124m\"\u001b[39m\u001b[38;5;124m/Data/globalterrorismdb_0718dist.csv\u001b[39m\u001b[38;5;124m\"\u001b[39m, encoding\u001b[38;5;241m=\u001b[39m\u001b[38;5;124m'\u001b[39m\u001b[38;5;124mISO-8859-1\u001b[39m\u001b[38;5;124m'\u001b[39m)\n\u001b[1;32m      4\u001b[0m \u001b[38;5;66;03m# Display the last few rows of the dataset\u001b[39;00m\n\u001b[1;32m      5\u001b[0m df\u001b[38;5;241m.\u001b[39mtail()\n",
      "File \u001b[0;32m~/anaconda3/lib/python3.11/site-packages/pandas/util/_decorators.py:211\u001b[0m, in \u001b[0;36mdeprecate_kwarg.<locals>._deprecate_kwarg.<locals>.wrapper\u001b[0;34m(*args, **kwargs)\u001b[0m\n\u001b[1;32m    209\u001b[0m     \u001b[38;5;28;01melse\u001b[39;00m:\n\u001b[1;32m    210\u001b[0m         kwargs[new_arg_name] \u001b[38;5;241m=\u001b[39m new_arg_value\n\u001b[0;32m--> 211\u001b[0m \u001b[38;5;28;01mreturn\u001b[39;00m func(\u001b[38;5;241m*\u001b[39margs, \u001b[38;5;241m*\u001b[39m\u001b[38;5;241m*\u001b[39mkwargs)\n",
      "File \u001b[0;32m~/anaconda3/lib/python3.11/site-packages/pandas/util/_decorators.py:331\u001b[0m, in \u001b[0;36mdeprecate_nonkeyword_arguments.<locals>.decorate.<locals>.wrapper\u001b[0;34m(*args, **kwargs)\u001b[0m\n\u001b[1;32m    325\u001b[0m \u001b[38;5;28;01mif\u001b[39;00m \u001b[38;5;28mlen\u001b[39m(args) \u001b[38;5;241m>\u001b[39m num_allow_args:\n\u001b[1;32m    326\u001b[0m     warnings\u001b[38;5;241m.\u001b[39mwarn(\n\u001b[1;32m    327\u001b[0m         msg\u001b[38;5;241m.\u001b[39mformat(arguments\u001b[38;5;241m=\u001b[39m_format_argument_list(allow_args)),\n\u001b[1;32m    328\u001b[0m         \u001b[38;5;167;01mFutureWarning\u001b[39;00m,\n\u001b[1;32m    329\u001b[0m         stacklevel\u001b[38;5;241m=\u001b[39mfind_stack_level(),\n\u001b[1;32m    330\u001b[0m     )\n\u001b[0;32m--> 331\u001b[0m \u001b[38;5;28;01mreturn\u001b[39;00m func(\u001b[38;5;241m*\u001b[39margs, \u001b[38;5;241m*\u001b[39m\u001b[38;5;241m*\u001b[39mkwargs)\n",
      "File \u001b[0;32m~/anaconda3/lib/python3.11/site-packages/pandas/io/parsers/readers.py:950\u001b[0m, in \u001b[0;36mread_csv\u001b[0;34m(filepath_or_buffer, sep, delimiter, header, names, index_col, usecols, squeeze, prefix, mangle_dupe_cols, dtype, engine, converters, true_values, false_values, skipinitialspace, skiprows, skipfooter, nrows, na_values, keep_default_na, na_filter, verbose, skip_blank_lines, parse_dates, infer_datetime_format, keep_date_col, date_parser, dayfirst, cache_dates, iterator, chunksize, compression, thousands, decimal, lineterminator, quotechar, quoting, doublequote, escapechar, comment, encoding, encoding_errors, dialect, error_bad_lines, warn_bad_lines, on_bad_lines, delim_whitespace, low_memory, memory_map, float_precision, storage_options)\u001b[0m\n\u001b[1;32m    935\u001b[0m kwds_defaults \u001b[38;5;241m=\u001b[39m _refine_defaults_read(\n\u001b[1;32m    936\u001b[0m     dialect,\n\u001b[1;32m    937\u001b[0m     delimiter,\n\u001b[0;32m   (...)\u001b[0m\n\u001b[1;32m    946\u001b[0m     defaults\u001b[38;5;241m=\u001b[39m{\u001b[38;5;124m\"\u001b[39m\u001b[38;5;124mdelimiter\u001b[39m\u001b[38;5;124m\"\u001b[39m: \u001b[38;5;124m\"\u001b[39m\u001b[38;5;124m,\u001b[39m\u001b[38;5;124m\"\u001b[39m},\n\u001b[1;32m    947\u001b[0m )\n\u001b[1;32m    948\u001b[0m kwds\u001b[38;5;241m.\u001b[39mupdate(kwds_defaults)\n\u001b[0;32m--> 950\u001b[0m \u001b[38;5;28;01mreturn\u001b[39;00m _read(filepath_or_buffer, kwds)\n",
      "File \u001b[0;32m~/anaconda3/lib/python3.11/site-packages/pandas/io/parsers/readers.py:605\u001b[0m, in \u001b[0;36m_read\u001b[0;34m(filepath_or_buffer, kwds)\u001b[0m\n\u001b[1;32m    602\u001b[0m _validate_names(kwds\u001b[38;5;241m.\u001b[39mget(\u001b[38;5;124m\"\u001b[39m\u001b[38;5;124mnames\u001b[39m\u001b[38;5;124m\"\u001b[39m, \u001b[38;5;28;01mNone\u001b[39;00m))\n\u001b[1;32m    604\u001b[0m \u001b[38;5;66;03m# Create the parser.\u001b[39;00m\n\u001b[0;32m--> 605\u001b[0m parser \u001b[38;5;241m=\u001b[39m TextFileReader(filepath_or_buffer, \u001b[38;5;241m*\u001b[39m\u001b[38;5;241m*\u001b[39mkwds)\n\u001b[1;32m    607\u001b[0m \u001b[38;5;28;01mif\u001b[39;00m chunksize \u001b[38;5;129;01mor\u001b[39;00m iterator:\n\u001b[1;32m    608\u001b[0m     \u001b[38;5;28;01mreturn\u001b[39;00m parser\n",
      "File \u001b[0;32m~/anaconda3/lib/python3.11/site-packages/pandas/io/parsers/readers.py:1442\u001b[0m, in \u001b[0;36mTextFileReader.__init__\u001b[0;34m(self, f, engine, **kwds)\u001b[0m\n\u001b[1;32m   1439\u001b[0m     \u001b[38;5;28mself\u001b[39m\u001b[38;5;241m.\u001b[39moptions[\u001b[38;5;124m\"\u001b[39m\u001b[38;5;124mhas_index_names\u001b[39m\u001b[38;5;124m\"\u001b[39m] \u001b[38;5;241m=\u001b[39m kwds[\u001b[38;5;124m\"\u001b[39m\u001b[38;5;124mhas_index_names\u001b[39m\u001b[38;5;124m\"\u001b[39m]\n\u001b[1;32m   1441\u001b[0m \u001b[38;5;28mself\u001b[39m\u001b[38;5;241m.\u001b[39mhandles: IOHandles \u001b[38;5;241m|\u001b[39m \u001b[38;5;28;01mNone\u001b[39;00m \u001b[38;5;241m=\u001b[39m \u001b[38;5;28;01mNone\u001b[39;00m\n\u001b[0;32m-> 1442\u001b[0m \u001b[38;5;28mself\u001b[39m\u001b[38;5;241m.\u001b[39m_engine \u001b[38;5;241m=\u001b[39m \u001b[38;5;28mself\u001b[39m\u001b[38;5;241m.\u001b[39m_make_engine(f, \u001b[38;5;28mself\u001b[39m\u001b[38;5;241m.\u001b[39mengine)\n",
      "File \u001b[0;32m~/anaconda3/lib/python3.11/site-packages/pandas/io/parsers/readers.py:1735\u001b[0m, in \u001b[0;36mTextFileReader._make_engine\u001b[0;34m(self, f, engine)\u001b[0m\n\u001b[1;32m   1733\u001b[0m     \u001b[38;5;28;01mif\u001b[39;00m \u001b[38;5;124m\"\u001b[39m\u001b[38;5;124mb\u001b[39m\u001b[38;5;124m\"\u001b[39m \u001b[38;5;129;01mnot\u001b[39;00m \u001b[38;5;129;01min\u001b[39;00m mode:\n\u001b[1;32m   1734\u001b[0m         mode \u001b[38;5;241m+\u001b[39m\u001b[38;5;241m=\u001b[39m \u001b[38;5;124m\"\u001b[39m\u001b[38;5;124mb\u001b[39m\u001b[38;5;124m\"\u001b[39m\n\u001b[0;32m-> 1735\u001b[0m \u001b[38;5;28mself\u001b[39m\u001b[38;5;241m.\u001b[39mhandles \u001b[38;5;241m=\u001b[39m get_handle(\n\u001b[1;32m   1736\u001b[0m     f,\n\u001b[1;32m   1737\u001b[0m     mode,\n\u001b[1;32m   1738\u001b[0m     encoding\u001b[38;5;241m=\u001b[39m\u001b[38;5;28mself\u001b[39m\u001b[38;5;241m.\u001b[39moptions\u001b[38;5;241m.\u001b[39mget(\u001b[38;5;124m\"\u001b[39m\u001b[38;5;124mencoding\u001b[39m\u001b[38;5;124m\"\u001b[39m, \u001b[38;5;28;01mNone\u001b[39;00m),\n\u001b[1;32m   1739\u001b[0m     compression\u001b[38;5;241m=\u001b[39m\u001b[38;5;28mself\u001b[39m\u001b[38;5;241m.\u001b[39moptions\u001b[38;5;241m.\u001b[39mget(\u001b[38;5;124m\"\u001b[39m\u001b[38;5;124mcompression\u001b[39m\u001b[38;5;124m\"\u001b[39m, \u001b[38;5;28;01mNone\u001b[39;00m),\n\u001b[1;32m   1740\u001b[0m     memory_map\u001b[38;5;241m=\u001b[39m\u001b[38;5;28mself\u001b[39m\u001b[38;5;241m.\u001b[39moptions\u001b[38;5;241m.\u001b[39mget(\u001b[38;5;124m\"\u001b[39m\u001b[38;5;124mmemory_map\u001b[39m\u001b[38;5;124m\"\u001b[39m, \u001b[38;5;28;01mFalse\u001b[39;00m),\n\u001b[1;32m   1741\u001b[0m     is_text\u001b[38;5;241m=\u001b[39mis_text,\n\u001b[1;32m   1742\u001b[0m     errors\u001b[38;5;241m=\u001b[39m\u001b[38;5;28mself\u001b[39m\u001b[38;5;241m.\u001b[39moptions\u001b[38;5;241m.\u001b[39mget(\u001b[38;5;124m\"\u001b[39m\u001b[38;5;124mencoding_errors\u001b[39m\u001b[38;5;124m\"\u001b[39m, \u001b[38;5;124m\"\u001b[39m\u001b[38;5;124mstrict\u001b[39m\u001b[38;5;124m\"\u001b[39m),\n\u001b[1;32m   1743\u001b[0m     storage_options\u001b[38;5;241m=\u001b[39m\u001b[38;5;28mself\u001b[39m\u001b[38;5;241m.\u001b[39moptions\u001b[38;5;241m.\u001b[39mget(\u001b[38;5;124m\"\u001b[39m\u001b[38;5;124mstorage_options\u001b[39m\u001b[38;5;124m\"\u001b[39m, \u001b[38;5;28;01mNone\u001b[39;00m),\n\u001b[1;32m   1744\u001b[0m )\n\u001b[1;32m   1745\u001b[0m \u001b[38;5;28;01massert\u001b[39;00m \u001b[38;5;28mself\u001b[39m\u001b[38;5;241m.\u001b[39mhandles \u001b[38;5;129;01mis\u001b[39;00m \u001b[38;5;129;01mnot\u001b[39;00m \u001b[38;5;28;01mNone\u001b[39;00m\n\u001b[1;32m   1746\u001b[0m f \u001b[38;5;241m=\u001b[39m \u001b[38;5;28mself\u001b[39m\u001b[38;5;241m.\u001b[39mhandles\u001b[38;5;241m.\u001b[39mhandle\n",
      "File \u001b[0;32m~/anaconda3/lib/python3.11/site-packages/pandas/io/common.py:856\u001b[0m, in \u001b[0;36mget_handle\u001b[0;34m(path_or_buf, mode, encoding, compression, memory_map, is_text, errors, storage_options)\u001b[0m\n\u001b[1;32m    851\u001b[0m \u001b[38;5;28;01melif\u001b[39;00m \u001b[38;5;28misinstance\u001b[39m(handle, \u001b[38;5;28mstr\u001b[39m):\n\u001b[1;32m    852\u001b[0m     \u001b[38;5;66;03m# Check whether the filename is to be opened in binary mode.\u001b[39;00m\n\u001b[1;32m    853\u001b[0m     \u001b[38;5;66;03m# Binary mode does not support 'encoding' and 'newline'.\u001b[39;00m\n\u001b[1;32m    854\u001b[0m     \u001b[38;5;28;01mif\u001b[39;00m ioargs\u001b[38;5;241m.\u001b[39mencoding \u001b[38;5;129;01mand\u001b[39;00m \u001b[38;5;124m\"\u001b[39m\u001b[38;5;124mb\u001b[39m\u001b[38;5;124m\"\u001b[39m \u001b[38;5;129;01mnot\u001b[39;00m \u001b[38;5;129;01min\u001b[39;00m ioargs\u001b[38;5;241m.\u001b[39mmode:\n\u001b[1;32m    855\u001b[0m         \u001b[38;5;66;03m# Encoding\u001b[39;00m\n\u001b[0;32m--> 856\u001b[0m         handle \u001b[38;5;241m=\u001b[39m \u001b[38;5;28mopen\u001b[39m(\n\u001b[1;32m    857\u001b[0m             handle,\n\u001b[1;32m    858\u001b[0m             ioargs\u001b[38;5;241m.\u001b[39mmode,\n\u001b[1;32m    859\u001b[0m             encoding\u001b[38;5;241m=\u001b[39mioargs\u001b[38;5;241m.\u001b[39mencoding,\n\u001b[1;32m    860\u001b[0m             errors\u001b[38;5;241m=\u001b[39merrors,\n\u001b[1;32m    861\u001b[0m             newline\u001b[38;5;241m=\u001b[39m\u001b[38;5;124m\"\u001b[39m\u001b[38;5;124m\"\u001b[39m,\n\u001b[1;32m    862\u001b[0m         )\n\u001b[1;32m    863\u001b[0m     \u001b[38;5;28;01melse\u001b[39;00m:\n\u001b[1;32m    864\u001b[0m         \u001b[38;5;66;03m# Binary mode\u001b[39;00m\n\u001b[1;32m    865\u001b[0m         handle \u001b[38;5;241m=\u001b[39m \u001b[38;5;28mopen\u001b[39m(handle, ioargs\u001b[38;5;241m.\u001b[39mmode)\n",
      "\u001b[0;31mFileNotFoundError\u001b[0m: [Errno 2] No such file or directory: '/Data/globalterrorismdb_0718dist.csv'"
     ]
    }
   ],
   "source": [
    "# Load the dataset\n",
    "df=pd.read_csv(\"/Data/globalterrorismdb_0718dist.csv\", encoding='ISO-8859-1')\n",
    "\n",
    "# Display the last few rows of the dataset\n",
    "df.tail()"
   ]
  },
  {
   "cell_type": "code",
   "execution_count": null,
   "metadata": {
    "execution": {
     "iopub.execute_input": "2023-12-13T17:04:22.103287Z",
     "iopub.status.busy": "2023-12-13T17:04:22.102931Z",
     "iopub.status.idle": "2023-12-13T17:04:22.112842Z",
     "shell.execute_reply": "2023-12-13T17:04:22.111481Z",
     "shell.execute_reply.started": "2023-12-13T17:04:22.103256Z"
    }
   },
   "outputs": [],
   "source": [
    "df.columns"
   ]
  },
  {
   "cell_type": "code",
   "execution_count": null,
   "metadata": {
    "execution": {
     "iopub.execute_input": "2023-12-13T17:04:22.115133Z",
     "iopub.status.busy": "2023-12-13T17:04:22.114778Z",
     "iopub.status.idle": "2023-12-13T17:04:22.127468Z",
     "shell.execute_reply": "2023-12-13T17:04:22.126128Z",
     "shell.execute_reply.started": "2023-12-13T17:04:22.115102Z"
    }
   },
   "outputs": [],
   "source": [
    "#Renaming the columns\n",
    "\n",
    "df.rename(columns={'iyear':'Year','imonth':'Month','iday':'Day','country_txt':'Country','provstate':'state',\n",
    "                       'region_txt':'Region','attacktype1_txt':'AttackType','target1':'Target','nkill':'Killed',\n",
    "                       'nwound':'Wounded','summary':'Summary','gname':'Group','targtype1_txt':'Target_type',\n",
    "                       'weaptype1_txt':'Weapon_type','motive':'Motive'},inplace=True)\n"
   ]
  },
  {
   "cell_type": "code",
   "execution_count": null,
   "metadata": {
    "execution": {
     "iopub.execute_input": "2023-12-13T17:04:22.132694Z",
     "iopub.status.busy": "2023-12-13T17:04:22.132216Z",
     "iopub.status.idle": "2023-12-13T17:04:22.172600Z",
     "shell.execute_reply": "2023-12-13T17:04:22.171001Z",
     "shell.execute_reply.started": "2023-12-13T17:04:22.132655Z"
    }
   },
   "outputs": [],
   "source": [
    "#As there are too many columns in dataset, we are taking only important columns from the dataset for data preprocessing\n",
    "\n",
    "df = df[['Year','Month','Day','Country','state','Region','city','latitude','longitude','AttackType','Killed',\n",
    "               'Wounded','Target','Summary','Group','Target_type','Weapon_type','Motive']]\n"
   ]
  },
  {
   "cell_type": "code",
   "execution_count": null,
   "metadata": {
    "execution": {
     "iopub.execute_input": "2023-12-13T17:04:22.174957Z",
     "iopub.status.busy": "2023-12-13T17:04:22.174576Z",
     "iopub.status.idle": "2023-12-13T17:04:22.396575Z",
     "shell.execute_reply": "2023-12-13T17:04:22.395082Z",
     "shell.execute_reply.started": "2023-12-13T17:04:22.174927Z"
    }
   },
   "outputs": [],
   "source": [
    "#Cheching the null values\n",
    "\n",
    "df.isnull().sum()"
   ]
  },
  {
   "cell_type": "code",
   "execution_count": null,
   "metadata": {
    "execution": {
     "iopub.execute_input": "2023-12-13T17:04:22.399533Z",
     "iopub.status.busy": "2023-12-13T17:04:22.398976Z",
     "iopub.status.idle": "2023-12-13T17:04:22.407929Z",
     "shell.execute_reply": "2023-12-13T17:04:22.406849Z",
     "shell.execute_reply.started": "2023-12-13T17:04:22.399485Z"
    }
   },
   "outputs": [],
   "source": [
    "df.shape"
   ]
  },
  {
   "cell_type": "code",
   "execution_count": null,
   "metadata": {
    "execution": {
     "iopub.execute_input": "2023-12-13T17:04:22.409692Z",
     "iopub.status.busy": "2023-12-13T17:04:22.409287Z",
     "iopub.status.idle": "2023-12-13T17:04:22.644560Z",
     "shell.execute_reply": "2023-12-13T17:04:22.642969Z",
     "shell.execute_reply.started": "2023-12-13T17:04:22.409658Z"
    }
   },
   "outputs": [],
   "source": [
    "df.info()"
   ]
  },
  {
   "cell_type": "code",
   "execution_count": null,
   "metadata": {
    "execution": {
     "iopub.execute_input": "2023-12-13T17:04:22.646755Z",
     "iopub.status.busy": "2023-12-13T17:04:22.646263Z",
     "iopub.status.idle": "2023-12-13T17:04:22.736705Z",
     "shell.execute_reply": "2023-12-13T17:04:22.735300Z",
     "shell.execute_reply.started": "2023-12-13T17:04:22.646711Z"
    }
   },
   "outputs": [],
   "source": [
    "df.describe()"
   ]
  },
  {
   "cell_type": "code",
   "execution_count": null,
   "metadata": {
    "execution": {
     "iopub.execute_input": "2023-12-13T17:04:22.738838Z",
     "iopub.status.busy": "2023-12-13T17:04:22.738383Z",
     "iopub.status.idle": "2023-12-13T17:04:22.755227Z",
     "shell.execute_reply": "2023-12-13T17:04:22.753666Z",
     "shell.execute_reply.started": "2023-12-13T17:04:22.738796Z"
    }
   },
   "outputs": [],
   "source": [
    "df['Year'].value_counts(dropna = False).sort_index()"
   ]
  },
  {
   "cell_type": "code",
   "execution_count": null,
   "metadata": {
    "execution": {
     "iopub.execute_input": "2023-12-13T17:04:22.757777Z",
     "iopub.status.busy": "2023-12-13T17:04:22.757205Z",
     "iopub.status.idle": "2023-12-13T17:04:25.916883Z",
     "shell.execute_reply": "2023-12-13T17:04:25.915894Z",
     "shell.execute_reply.started": "2023-12-13T17:04:22.757728Z"
    }
   },
   "outputs": [],
   "source": [
    "from wordcloud import WordCloud\n",
    "from scipy import signal\n",
    "cities = df.state.dropna()\n",
    "plt.subplots(figsize=(10,10))\n",
    "wordcloud = WordCloud(background_color = 'white',\n",
    "                     width = 512,\n",
    "                     height = 384).generate(' '.join(cities))\n",
    "plt.axis('off')\n",
    "plt.imshow(wordcloud)\n",
    "plt.show()"
   ]
  },
  {
   "cell_type": "markdown",
   "metadata": {},
   "source": [
    "# **Data Visualization**"
   ]
  },
  {
   "cell_type": "markdown",
   "metadata": {},
   "source": [
    "# People Killed and Wounded In Each Year"
   ]
  },
  {
   "cell_type": "code",
   "execution_count": null,
   "metadata": {
    "execution": {
     "iopub.execute_input": "2023-12-13T17:04:25.918608Z",
     "iopub.status.busy": "2023-12-13T17:04:25.918161Z",
     "iopub.status.idle": "2023-12-13T17:04:25.944139Z",
     "shell.execute_reply": "2023-12-13T17:04:25.942467Z",
     "shell.execute_reply.started": "2023-12-13T17:04:25.918567Z"
    }
   },
   "outputs": [],
   "source": [
    "b=df[[\"Year\",\"Wounded\"]].groupby(\"Year\").sum()\n",
    "b.head()\n"
   ]
  },
  {
   "cell_type": "code",
   "execution_count": null,
   "metadata": {
    "execution": {
     "iopub.execute_input": "2023-12-13T17:04:25.946003Z",
     "iopub.status.busy": "2023-12-13T17:04:25.945550Z",
     "iopub.status.idle": "2023-12-13T17:04:26.620309Z",
     "shell.execute_reply": "2023-12-13T17:04:26.619313Z",
     "shell.execute_reply.started": "2023-12-13T17:04:25.945967Z"
    }
   },
   "outputs": [],
   "source": [
    "b.plot(kind=\"bar\",color=\"orange\",figsize=(15,6))\n",
    "plt.title(\"Year wise Wounded\",fontsize=13)\n",
    "plt.xlabel(\"Years\",fontsize=13)\n",
    "plt.xticks(fontsize=12)\n",
    "plt.ylabel(\"Number of Wounded\",fontsize=13)\n",
    "plt.show()\n",
    "\n"
   ]
  },
  {
   "cell_type": "code",
   "execution_count": null,
   "metadata": {
    "execution": {
     "iopub.execute_input": "2023-12-13T17:04:26.628147Z",
     "iopub.status.busy": "2023-12-13T17:04:26.627680Z",
     "iopub.status.idle": "2023-12-13T17:04:26.649822Z",
     "shell.execute_reply": "2023-12-13T17:04:26.648695Z",
     "shell.execute_reply.started": "2023-12-13T17:04:26.628109Z"
    }
   },
   "outputs": [],
   "source": [
    "k=df[[\"Year\",\"Killed\"]].groupby(\"Year\").sum()\n",
    "k.head()"
   ]
  },
  {
   "cell_type": "code",
   "execution_count": null,
   "metadata": {
    "execution": {
     "iopub.execute_input": "2023-12-13T17:04:26.652104Z",
     "iopub.status.busy": "2023-12-13T17:04:26.651748Z",
     "iopub.status.idle": "2023-12-13T17:04:26.673651Z",
     "shell.execute_reply": "2023-12-13T17:04:26.672192Z",
     "shell.execute_reply.started": "2023-12-13T17:04:26.652071Z"
    }
   },
   "outputs": [],
   "source": [
    "w=df[[\"Year\",\"Wounded\"]].groupby(\"Year\").sum()\n",
    "w.head()\n"
   ]
  },
  {
   "cell_type": "code",
   "execution_count": null,
   "metadata": {
    "execution": {
     "iopub.execute_input": "2023-12-13T17:04:26.676434Z",
     "iopub.status.busy": "2023-12-13T17:04:26.675927Z",
     "iopub.status.idle": "2023-12-13T17:04:28.328004Z",
     "shell.execute_reply": "2023-12-13T17:04:28.326581Z",
     "shell.execute_reply.started": "2023-12-13T17:04:26.676375Z"
    }
   },
   "outputs": [],
   "source": [
    "fig=plt.figure()\n",
    "ax0=fig.add_subplot(2,1,1)\n",
    "ax1=fig.add_subplot(2,1,2)\n",
    "\n",
    "#Killed\n",
    "k.plot(kind=\"bar\",color=\"blue\",figsize=(15,15),ax=ax0)\n",
    "ax0.set_title(\"People Killed in each Year\")\n",
    "ax0.set_xlabel(\"Years\")\n",
    "ax0.set_ylabel(\"Number of People Killed\") \n",
    "\n",
    "#Wounded\n",
    "w.plot(kind=\"bar\",color=\"red\",figsize=(15,15),ax=ax1)\n",
    "ax1.set_title(\"People Wounded in each Year\")\n",
    "ax1.set_xlabel(\"Years\")\n",
    "ax1.set_ylabel(\"Number of People Wounded\")\n"
   ]
  },
  {
   "cell_type": "markdown",
   "metadata": {},
   "source": [
    "# Number of Terrorist Activities each Year"
   ]
  },
  {
   "cell_type": "code",
   "execution_count": null,
   "metadata": {
    "execution": {
     "iopub.execute_input": "2023-12-13T17:04:28.330140Z",
     "iopub.status.busy": "2023-12-13T17:04:28.329764Z",
     "iopub.status.idle": "2023-12-13T17:04:29.078938Z",
     "shell.execute_reply": "2023-12-13T17:04:29.077390Z",
     "shell.execute_reply.started": "2023-12-13T17:04:28.330107Z"
    }
   },
   "outputs": [],
   "source": [
    "x_year = df['Year'].unique()\n",
    "y_count_years = df['Year'].value_counts(dropna = False).sort_index()\n",
    "plt.figure(figsize = (18,10))\n",
    "sns.barplot(x = x_year,\n",
    "           y = y_count_years,\n",
    "           palette = 'rocket')\n",
    "plt.xticks(rotation = 45)\n",
    "plt.xlabel('Attack Year')\n",
    "plt.ylabel('Number of Attacks each year')\n",
    "plt.title('Attack Of Years')\n",
    "plt.show()"
   ]
  },
  {
   "cell_type": "code",
   "execution_count": null,
   "metadata": {
    "execution": {
     "iopub.execute_input": "2023-12-13T17:04:29.081701Z",
     "iopub.status.busy": "2023-12-13T17:04:29.080735Z",
     "iopub.status.idle": "2023-12-13T17:04:29.902921Z",
     "shell.execute_reply": "2023-12-13T17:04:29.901296Z",
     "shell.execute_reply.started": "2023-12-13T17:04:29.081653Z"
    }
   },
   "outputs": [],
   "source": [
    "import seaborn as sns\n",
    "import matplotlib.pyplot as plt\n",
    "\n",
    "plt.subplots(figsize=(15, 6))\n",
    "sns.countplot(x='Year', data=df, palette='RdYlGn_r', edgecolor=sns.color_palette(\"YlOrBr\", 10))\n",
    "plt.xticks(rotation=45)\n",
    "plt.title('Number Of Terrorist Activities Each Year')\n"
   ]
  },
  {
   "cell_type": "markdown",
   "metadata": {},
   "source": [
    "# Terrorist Activities by Region in each Year through Area Plot"
   ]
  },
  {
   "cell_type": "code",
   "execution_count": null,
   "metadata": {
    "execution": {
     "iopub.execute_input": "2023-12-13T17:04:29.905891Z",
     "iopub.status.busy": "2023-12-13T17:04:29.904984Z",
     "iopub.status.idle": "2023-12-13T17:04:30.546862Z",
     "shell.execute_reply": "2023-12-13T17:04:30.545339Z",
     "shell.execute_reply.started": "2023-12-13T17:04:29.905847Z"
    }
   },
   "outputs": [],
   "source": [
    "pd.crosstab(df.Year, df.Region).plot(kind='area',figsize=(15,6))\n",
    "plt.title('Terrorist Activities by Region in each Year')\n",
    "plt.ylabel('Number of Attacks')\n",
    "plt.show()\n",
    "\n"
   ]
  },
  {
   "cell_type": "code",
   "execution_count": null,
   "metadata": {
    "execution": {
     "iopub.execute_input": "2023-12-13T17:04:30.548946Z",
     "iopub.status.busy": "2023-12-13T17:04:30.548586Z",
     "iopub.status.idle": "2023-12-13T17:04:30.562618Z",
     "shell.execute_reply": "2023-12-13T17:04:30.561279Z",
     "shell.execute_reply.started": "2023-12-13T17:04:30.548912Z"
    }
   },
   "outputs": [],
   "source": [
    "df['Wounded'] = df['Wounded'].fillna(0).astype(int)\n",
    "df['Killed'] = df['Killed'].fillna(0).astype(int)\n",
    "df['casualities'] = df['Killed'] + df['Wounded']"
   ]
  },
  {
   "cell_type": "markdown",
   "metadata": {},
   "source": [
    "Values are sorted by the top 40 worst terror attacks as to keep the heatmap simple and easy to visualize"
   ]
  },
  {
   "cell_type": "markdown",
   "metadata": {},
   "source": [
    "# Heatmap"
   ]
  },
  {
   "cell_type": "code",
   "execution_count": null,
   "metadata": {
    "execution": {
     "iopub.execute_input": "2023-12-13T17:04:30.564834Z",
     "iopub.status.busy": "2023-12-13T17:04:30.564342Z",
     "iopub.status.idle": "2023-12-13T17:04:30.712259Z",
     "shell.execute_reply": "2023-12-13T17:04:30.711080Z",
     "shell.execute_reply.started": "2023-12-13T17:04:30.564790Z"
    }
   },
   "outputs": [],
   "source": [
    "t1 = df.sort_values(by='casualities',ascending=False)[:40]\n",
    "heat=t1.pivot_table(index='Country',columns='Year',values='casualities')\n",
    "heat.fillna(0,inplace=True)\n",
    "heat.head()"
   ]
  },
  {
   "cell_type": "code",
   "execution_count": null,
   "metadata": {
    "execution": {
     "iopub.execute_input": "2023-12-13T17:04:30.715211Z",
     "iopub.status.busy": "2023-12-13T17:04:30.714422Z",
     "iopub.status.idle": "2023-12-13T17:04:32.895728Z",
     "shell.execute_reply": "2023-12-13T17:04:32.894459Z",
     "shell.execute_reply.started": "2023-12-13T17:04:30.715170Z"
    }
   },
   "outputs": [],
   "source": [
    "import plotly.offline as py\n",
    "py.init_notebook_mode(connected=True)\n",
    "import plotly.graph_objs as go\n",
    "colorscale = [[0, '#edf8fb'], [.3, '#00BFFF'],  [.6, '#8856a7'],  [1, '#810f7c']]\n",
    "heatmap = go.Heatmap(z=heat.values, x=heat.columns, y=heat.index, colorscale=colorscale)\n",
    "data = [heatmap]\n",
    "layout = go.Layout(\n",
    "    title='Top 40 Worst Terror Attacks in History from 1982 to 2016',\n",
    "    xaxis = dict(ticks='', nticks=20),\n",
    "    yaxis = dict(ticks='')\n",
    ")\n",
    "fig = go.Figure(data=data, layout=layout)\n",
    "py.iplot(fig, filename='heatmap',show_link=False)\n",
    "\n"
   ]
  },
  {
   "cell_type": "code",
   "execution_count": null,
   "metadata": {
    "execution": {
     "iopub.execute_input": "2023-12-13T17:04:32.897999Z",
     "iopub.status.busy": "2023-12-13T17:04:32.897426Z",
     "iopub.status.idle": "2023-12-13T17:04:32.983314Z",
     "shell.execute_reply": "2023-12-13T17:04:32.982112Z",
     "shell.execute_reply.started": "2023-12-13T17:04:32.897964Z"
    }
   },
   "outputs": [],
   "source": [
    "reg=pd.crosstab(df.Year,df.Region)\n",
    "reg.head()\n"
   ]
  },
  {
   "cell_type": "code",
   "execution_count": null,
   "metadata": {
    "execution": {
     "iopub.execute_input": "2023-12-13T17:04:32.987683Z",
     "iopub.status.busy": "2023-12-13T17:04:32.986926Z",
     "iopub.status.idle": "2023-12-13T17:04:33.001202Z",
     "shell.execute_reply": "2023-12-13T17:04:32.999692Z",
     "shell.execute_reply.started": "2023-12-13T17:04:32.987644Z"
    }
   },
   "outputs": [],
   "source": [
    "regt=reg.transpose()\n",
    "regt[\"Total\"]=regt.sum(axis=1)\n",
    "a=regt[\"Total\"].sort_values(ascending=False)\n",
    "a"
   ]
  },
  {
   "cell_type": "code",
   "execution_count": null,
   "metadata": {
    "execution": {
     "iopub.execute_input": "2023-12-13T17:04:33.006038Z",
     "iopub.status.busy": "2023-12-13T17:04:33.003700Z",
     "iopub.status.idle": "2023-12-13T17:04:33.418384Z",
     "shell.execute_reply": "2023-12-13T17:04:33.416777Z",
     "shell.execute_reply.started": "2023-12-13T17:04:33.005979Z"
    }
   },
   "outputs": [],
   "source": [
    "a.plot(kind=\"bar\",figsize=(15,6))\n",
    "plt.title(\"Total Number of Attacks in each Region from 1970-2017\")\n",
    "plt.xlabel(\"Region\")\n",
    "plt.ylabel(\"Number of Attacks\")\n",
    "plt.show()\n",
    "\n"
   ]
  },
  {
   "cell_type": "markdown",
   "metadata": {},
   "source": [
    "# Top Countries affected by Terror Attacks"
   ]
  },
  {
   "cell_type": "code",
   "execution_count": null,
   "metadata": {
    "execution": {
     "iopub.execute_input": "2023-12-13T17:04:33.420460Z",
     "iopub.status.busy": "2023-12-13T17:04:33.420082Z",
     "iopub.status.idle": "2023-12-13T17:04:33.464512Z",
     "shell.execute_reply": "2023-12-13T17:04:33.462800Z",
     "shell.execute_reply.started": "2023-12-13T17:04:33.420429Z"
    }
   },
   "outputs": [],
   "source": [
    "df.Country.value_counts()[:15]"
   ]
  },
  {
   "cell_type": "code",
   "execution_count": null,
   "metadata": {
    "execution": {
     "iopub.execute_input": "2023-12-13T17:04:33.466919Z",
     "iopub.status.busy": "2023-12-13T17:04:33.466390Z",
     "iopub.status.idle": "2023-12-13T17:04:33.951231Z",
     "shell.execute_reply": "2023-12-13T17:04:33.949529Z",
     "shell.execute_reply.started": "2023-12-13T17:04:33.466874Z"
    }
   },
   "outputs": [],
   "source": [
    "import seaborn as sns\n",
    "import matplotlib.pyplot as plt\n",
    "\n",
    "plt.subplots(figsize=(15, 6))\n",
    "top_countries = df['Country'].value_counts()[:15]\n",
    "sns.barplot(x=top_countries.index, y=top_countries.values,  palette='YlOrRd')\n",
    "plt.title('Top Countries Affected')\n",
    "plt.xlabel('Countries')\n",
    "plt.ylabel('Count')\n",
    "plt.xticks(rotation= 90)\n",
    "plt.show()\n"
   ]
  },
  {
   "cell_type": "markdown",
   "metadata": {},
   "source": [
    "# **Customized Data Analysis**"
   ]
  },
  {
   "cell_type": "markdown",
   "metadata": {},
   "source": [
    "# Terrorist Attacks of a Particular year and their Locations"
   ]
  },
  {
   "cell_type": "code",
   "execution_count": null,
   "metadata": {
    "execution": {
     "iopub.execute_input": "2023-12-13T17:04:33.953270Z",
     "iopub.status.busy": "2023-12-13T17:04:33.952846Z",
     "iopub.status.idle": "2023-12-13T17:04:34.549560Z",
     "shell.execute_reply": "2023-12-13T17:04:34.548422Z",
     "shell.execute_reply.started": "2023-12-13T17:04:33.953234Z"
    }
   },
   "outputs": [],
   "source": [
    "import folium\n",
    "from folium.plugins import MarkerCluster \n",
    "filterYear = df['Year'] == 1974"
   ]
  },
  {
   "cell_type": "code",
   "execution_count": null,
   "metadata": {
    "execution": {
     "iopub.execute_input": "2023-12-13T17:04:34.552727Z",
     "iopub.status.busy": "2023-12-13T17:04:34.552017Z",
     "iopub.status.idle": "2023-12-13T17:04:34.570060Z",
     "shell.execute_reply": "2023-12-13T17:04:34.568129Z",
     "shell.execute_reply.started": "2023-12-13T17:04:34.552685Z"
    }
   },
   "outputs": [],
   "source": [
    "filterData = df[filterYear] # filter data\n",
    "# filterData.info()\n",
    "reqFilterData = filterData.loc[:,'city':'longitude'] #We are getting the required fields\n",
    "reqFilterData = reqFilterData.dropna() # drop NaN values in latitude and longitude\n",
    "reqFilterDataList = reqFilterData.values.tolist()\n",
    "# reqFilterDataList\n"
   ]
  },
  {
   "cell_type": "code",
   "execution_count": null,
   "metadata": {
    "execution": {
     "iopub.execute_input": "2023-12-13T17:04:34.573500Z",
     "iopub.status.busy": "2023-12-13T17:04:34.572982Z",
     "iopub.status.idle": "2023-12-13T17:04:35.564212Z",
     "shell.execute_reply": "2023-12-13T17:04:35.562853Z",
     "shell.execute_reply.started": "2023-12-13T17:04:34.573455Z"
    }
   },
   "outputs": [],
   "source": [
    "map = folium.Map(location = [0, 30], tiles='CartoDB positron', zoom_start=2)\n",
    "# clustered marker\n",
    "markerCluster = folium.plugins.MarkerCluster().add_to(map)\n",
    "for point in range(0, len(reqFilterDataList)):\n",
    "    folium.Marker(location=[reqFilterDataList[point][1],reqFilterDataList[point][2]],\n",
    "                  popup = reqFilterDataList[point][0]).add_to(markerCluster)\n",
    "map\n"
   ]
  },
  {
   "cell_type": "markdown",
   "metadata": {},
   "source": [
    "In 1970, the American continent accounted for 84% of all terrorist attacks, while the Middle East and North Africa, which are now known as hotspots for conflicts and terrorism, experienced just one terrorist incident during that year."
   ]
  },
  {
   "cell_type": "markdown",
   "metadata": {},
   "source": [
    "# Types of terrorist attacks that cause deaths"
   ]
  },
  {
   "cell_type": "code",
   "execution_count": null,
   "metadata": {
    "execution": {
     "iopub.execute_input": "2023-12-13T17:04:35.566360Z",
     "iopub.status.busy": "2023-12-13T17:04:35.565996Z",
     "iopub.status.idle": "2023-12-13T17:04:35.607503Z",
     "shell.execute_reply": "2023-12-13T17:04:35.606311Z",
     "shell.execute_reply.started": "2023-12-13T17:04:35.566330Z"
    }
   },
   "outputs": [],
   "source": [
    "# Total Number of people killed in terror attack\n",
    "killData = df.loc[:,'Killed']\n",
    "print('Number of people killed by terror attack:', int(sum(killData.dropna())))# drop the NaN values"
   ]
  },
  {
   "cell_type": "code",
   "execution_count": null,
   "metadata": {
    "execution": {
     "iopub.execute_input": "2023-12-13T17:04:35.609477Z",
     "iopub.status.busy": "2023-12-13T17:04:35.609102Z",
     "iopub.status.idle": "2023-12-13T17:04:35.626364Z",
     "shell.execute_reply": "2023-12-13T17:04:35.624318Z",
     "shell.execute_reply.started": "2023-12-13T17:04:35.609444Z"
    }
   },
   "outputs": [],
   "source": [
    "# Let's look at what types of attacks these deaths were made of.\n",
    "attackData = df.loc[:,'AttackType']\n",
    "# attackData\n",
    "typeKillData = pd.concat([attackData, killData], axis=1)\n",
    "typeKillData.head()"
   ]
  },
  {
   "cell_type": "code",
   "execution_count": null,
   "metadata": {
    "execution": {
     "iopub.execute_input": "2023-12-13T17:04:35.629156Z",
     "iopub.status.busy": "2023-12-13T17:04:35.628577Z",
     "iopub.status.idle": "2023-12-13T17:04:35.674905Z",
     "shell.execute_reply": "2023-12-13T17:04:35.673875Z",
     "shell.execute_reply.started": "2023-12-13T17:04:35.629105Z"
    }
   },
   "outputs": [],
   "source": [
    "typeKillFormatData = typeKillData.pivot_table(columns='AttackType', values='Killed', aggfunc='sum')\n",
    "typeKillFormatData"
   ]
  },
  {
   "cell_type": "code",
   "execution_count": null,
   "metadata": {
    "execution": {
     "iopub.execute_input": "2023-12-13T17:04:35.676658Z",
     "iopub.status.busy": "2023-12-13T17:04:35.676311Z",
     "iopub.status.idle": "2023-12-13T17:04:35.691522Z",
     "shell.execute_reply": "2023-12-13T17:04:35.689946Z",
     "shell.execute_reply.started": "2023-12-13T17:04:35.676627Z"
    }
   },
   "outputs": [],
   "source": [
    "typeKillFormatData.info()"
   ]
  },
  {
   "cell_type": "code",
   "execution_count": null,
   "metadata": {
    "execution": {
     "iopub.execute_input": "2023-12-13T17:04:35.694562Z",
     "iopub.status.busy": "2023-12-13T17:04:35.693229Z",
     "iopub.status.idle": "2023-12-13T17:04:36.461420Z",
     "shell.execute_reply": "2023-12-13T17:04:36.460440Z",
     "shell.execute_reply.started": "2023-12-13T17:04:35.694507Z"
    }
   },
   "outputs": [],
   "source": [
    "import numpy as np\n",
    "\n",
    "labels = typeKillFormatData.columns.tolist() # convert line to list\n",
    "transpoze = typeKillFormatData.T # transpoze\n",
    "\n",
    "# Assuming values is a 2D array\n",
    "values = transpoze.values.tolist()\n",
    "values = np.array(values).flatten()  # Flatten the 2D array to make it 1D\n",
    "\n",
    "fig, ax = plt.subplots(figsize=(20, 20), subplot_kw=dict(aspect=\"equal\"))\n",
    "plt.pie(values, startangle=90, autopct='%.2f%%')\n",
    "plt.title('Types of terrorist attacks that cause deaths')\n",
    "plt.legend(labels, loc='upper right', bbox_to_anchor=(1.3, 0.9), fontsize=15)  # location legend\n",
    "plt.show()"
   ]
  },
  {
   "cell_type": "markdown",
   "metadata": {},
   "source": [
    "**The combination of armed assaults and bombings/explosions accounts for a significant portion, specifically 77%, of the fatalities resulting from these attacks. This high fatality rate underscores the recurring use of these tactics in terrorist activities, highlighting the profound threat posed by weapons and explosives on a global scale.**"
   ]
  },
  {
   "cell_type": "markdown",
   "metadata": {},
   "source": [
    "# Number of People Killed in Terrorist Attacks (By Countries)"
   ]
  },
  {
   "cell_type": "code",
   "execution_count": null,
   "metadata": {
    "execution": {
     "iopub.execute_input": "2023-12-13T17:04:36.463510Z",
     "iopub.status.busy": "2023-12-13T17:04:36.462920Z",
     "iopub.status.idle": "2023-12-13T17:04:36.471879Z",
     "shell.execute_reply": "2023-12-13T17:04:36.470483Z",
     "shell.execute_reply.started": "2023-12-13T17:04:36.463474Z"
    }
   },
   "outputs": [],
   "source": [
    "#Number of Killed in Terrorist Attacks by Countries\n",
    "countryData = df.loc[:,'Country']\n",
    "# countyData\n",
    "countryKillData = pd.concat([countryData, killData], axis=1)"
   ]
  },
  {
   "cell_type": "code",
   "execution_count": null,
   "metadata": {
    "execution": {
     "iopub.execute_input": "2023-12-13T17:04:36.473430Z",
     "iopub.status.busy": "2023-12-13T17:04:36.473088Z",
     "iopub.status.idle": "2023-12-13T17:04:36.526260Z",
     "shell.execute_reply": "2023-12-13T17:04:36.524867Z",
     "shell.execute_reply.started": "2023-12-13T17:04:36.473386Z"
    }
   },
   "outputs": [],
   "source": [
    "countryKillFormatData = countryKillData.pivot_table(columns='Country', values='Killed', aggfunc='sum')\n",
    "countryKillFormatData\n"
   ]
  },
  {
   "cell_type": "code",
   "execution_count": null,
   "metadata": {
    "execution": {
     "iopub.execute_input": "2023-12-13T17:04:36.528427Z",
     "iopub.status.busy": "2023-12-13T17:04:36.528027Z",
     "iopub.status.idle": "2023-12-13T17:04:36.535198Z",
     "shell.execute_reply": "2023-12-13T17:04:36.533505Z",
     "shell.execute_reply.started": "2023-12-13T17:04:36.528375Z"
    }
   },
   "outputs": [],
   "source": [
    "fig_size = plt.rcParams[\"figure.figsize\"]\n",
    "fig_size[0]=25\n",
    "fig_size[1]=25\n",
    "plt.rcParams[\"figure.figsize\"] = fig_size"
   ]
  },
  {
   "cell_type": "code",
   "execution_count": null,
   "metadata": {
    "execution": {
     "iopub.execute_input": "2023-12-13T17:04:36.538046Z",
     "iopub.status.busy": "2023-12-13T17:04:36.537634Z",
     "iopub.status.idle": "2023-12-13T17:04:37.675900Z",
     "shell.execute_reply": "2023-12-13T17:04:37.674610Z",
     "shell.execute_reply.started": "2023-12-13T17:04:36.538012Z"
    }
   },
   "outputs": [],
   "source": [
    "labels = countryKillFormatData.columns.tolist()\n",
    "labels = labels[152:206]\n",
    "index = np.arange(len(labels))\n",
    "transpoze = countryKillFormatData.T\n",
    "values = transpoze.values.tolist()\n",
    "values = values[152:206]\n",
    "values = [int(i[0]) for i in values]\n",
    "colors = ['red', 'green', 'blue', 'purple', 'yellow', 'brown', 'black', 'gray', 'magenta', 'orange']\n",
    "fig, ax = plt.subplots(1, 1)\n",
    "ax.yaxis.grid(True)\n",
    "fig_size = plt.rcParams[\"figure.figsize\"]\n",
    "fig_size[0]=25\n",
    "fig_size[1]=25\n",
    "plt.rcParams[\"figure.figsize\"] = fig_size\n",
    "plt.bar(index, values, color = colors, width = 0.9)\n",
    "plt.ylabel('Killed People', fontsize=20)\n",
    "plt.xlabel('Countries', fontsize = 20)\n",
    "plt.xticks(index, labels, fontsize=18, rotation=90)\n",
    "plt.title('Number of people killed by countries', fontsize = 20)\n",
    "plt.show()"
   ]
  },
  {
   "cell_type": "markdown",
   "metadata": {},
   "source": [
    "# Region Wise Casuality"
   ]
  },
  {
   "cell_type": "code",
   "execution_count": null,
   "metadata": {
    "execution": {
     "iopub.execute_input": "2023-12-13T17:04:37.678203Z",
     "iopub.status.busy": "2023-12-13T17:04:37.677805Z",
     "iopub.status.idle": "2023-12-13T17:04:37.720083Z",
     "shell.execute_reply": "2023-12-13T17:04:37.719000Z",
     "shell.execute_reply.started": "2023-12-13T17:04:37.678169Z"
    }
   },
   "outputs": [],
   "source": [
    "c=df[[\"Region\",\"Wounded\"]].groupby(\"Region\").sum().sort_values(by=\"Wounded\",ascending=False)\n",
    "c"
   ]
  },
  {
   "cell_type": "code",
   "execution_count": null,
   "metadata": {
    "execution": {
     "iopub.execute_input": "2023-12-13T17:04:37.729124Z",
     "iopub.status.busy": "2023-12-13T17:04:37.728422Z",
     "iopub.status.idle": "2023-12-13T17:04:38.188200Z",
     "shell.execute_reply": "2023-12-13T17:04:38.187016Z",
     "shell.execute_reply.started": "2023-12-13T17:04:37.729083Z"
    }
   },
   "outputs": [],
   "source": [
    "c.plot(kind=\"bar\",color=\"pink\",figsize=(15,6))\n",
    "plt.title(\"Region wise Casualty\",fontsize=13)\n",
    "plt.xlabel(\"Regions\",fontsize=13)\n",
    "plt.xticks(fontsize=12)\n",
    "plt.ylabel(\"Number of Casualty\",fontsize=13)\n",
    "plt.show()"
   ]
  },
  {
   "cell_type": "markdown",
   "metadata": {},
   "source": [
    "# People Killed and Wounded In Each Region"
   ]
  },
  {
   "cell_type": "code",
   "execution_count": null,
   "metadata": {
    "execution": {
     "iopub.execute_input": "2023-12-13T17:04:38.190866Z",
     "iopub.status.busy": "2023-12-13T17:04:38.190059Z",
     "iopub.status.idle": "2023-12-13T17:04:38.229529Z",
     "shell.execute_reply": "2023-12-13T17:04:38.228362Z",
     "shell.execute_reply.started": "2023-12-13T17:04:38.190821Z"
    }
   },
   "outputs": [],
   "source": [
    "k=df[[\"Region\",\"Killed\"]].groupby(\"Region\").sum().sort_values(by=\"Killed\",ascending=False)\n",
    "k"
   ]
  },
  {
   "cell_type": "code",
   "execution_count": null,
   "metadata": {
    "execution": {
     "iopub.execute_input": "2023-12-13T17:04:38.231813Z",
     "iopub.status.busy": "2023-12-13T17:04:38.231066Z",
     "iopub.status.idle": "2023-12-13T17:04:38.269482Z",
     "shell.execute_reply": "2023-12-13T17:04:38.268036Z",
     "shell.execute_reply.started": "2023-12-13T17:04:38.231780Z"
    }
   },
   "outputs": [],
   "source": [
    "w=df[[\"Region\",\"Wounded\"]].groupby(\"Region\").sum().sort_values(by=\"Wounded\",ascending=False)\n",
    "w"
   ]
  },
  {
   "cell_type": "code",
   "execution_count": null,
   "metadata": {
    "execution": {
     "iopub.execute_input": "2023-12-13T17:04:38.271890Z",
     "iopub.status.busy": "2023-12-13T17:04:38.271371Z",
     "iopub.status.idle": "2023-12-13T17:04:39.188430Z",
     "shell.execute_reply": "2023-12-13T17:04:39.186867Z",
     "shell.execute_reply.started": "2023-12-13T17:04:38.271857Z"
    }
   },
   "outputs": [],
   "source": [
    "fig=plt.figure()\n",
    "ax0=fig.add_subplot(1,2,1)\n",
    "ax1=fig.add_subplot(1,2,2)\n",
    "\n",
    "#People Killed\n",
    "k.plot(kind=\"bar\",color=\"indigo\",figsize=(15,6),ax=ax0)\n",
    "ax0.set_title(\"People Killed in each Region\")\n",
    "ax0.set_xlabel(\"Regions\")\n",
    "ax0.set_ylabel(\"Number of People Killed\")\n",
    "\n",
    "#People Wounded\n",
    "w.plot(kind=\"bar\",color=\"green\",figsize=(15,6),ax=ax1)\n",
    "ax1.set_title(\"People Wounded in each Region\")\n",
    "ax1.set_xlabel(\"Regions\")\n",
    "ax1.set_ylabel(\"Number of People Wounded\")\n",
    "\n",
    "plt.show"
   ]
  },
  {
   "cell_type": "markdown",
   "metadata": {},
   "source": [
    "# **Conclusion**"
   ]
  },
  {
   "cell_type": "markdown",
   "metadata": {},
   "source": [
    "**Terrorist incidents in the Middle East and Northern Africa region have been associated with severe and deadly outcomes. This region has been identified as a hotspot for significant terrorist attacks. Contrary to a common perception linking Muslims with terrorism, it is worth noting that Muslims are often the primary victims of these terrorist acts. A closer examination of the data visualizations reveals that Iraq, Afghanistan, and Pakistan are among the most adversely affected nations, and it's noteworthy that these countries are predominantly Muslim.**"
   ]
  }
 ],
 "metadata": {
  "kaggle": {
   "accelerator": "none",
   "dataSources": [
    {
     "datasetId": 504,
     "sourceId": 95812,
     "sourceType": "datasetVersion"
    }
   ],
   "dockerImageVersionId": 30558,
   "isGpuEnabled": false,
   "isInternetEnabled": true,
   "language": "python",
   "sourceType": "notebook"
  },
  "kernelspec": {
   "display_name": "Python 3 (ipykernel)",
   "language": "python",
   "name": "python3"
  },
  "language_info": {
   "codemirror_mode": {
    "name": "ipython",
    "version": 3
   },
   "file_extension": ".py",
   "mimetype": "text/x-python",
   "name": "python",
   "nbconvert_exporter": "python",
   "pygments_lexer": "ipython3",
   "version": "3.11.4"
  }
 },
 "nbformat": 4,
 "nbformat_minor": 4
}
